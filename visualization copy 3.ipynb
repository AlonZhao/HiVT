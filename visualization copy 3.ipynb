{
 "cells": [
  {
   "cell_type": "code",
   "execution_count": 1,
   "metadata": {},
   "outputs": [
    {
     "name": "stderr",
     "output_type": "stream",
     "text": [
      "/home/alon/anaconda3/envs/HiVT2/lib/python3.8/site-packages/tqdm/auto.py:21: TqdmWarning: IProgress not found. Please update jupyter and ipywidgets. See https://ipywidgets.readthedocs.io/en/stable/user_install.html\n",
      "  from .autonotebook import tqdm as notebook_tqdm\n"
     ]
    }
   ],
   "source": [
    "import matplotlib.pyplot as plt\n",
    "import numpy as np\n",
    "from argoverse.map_representation.map_api import ArgoverseMap  # 如果需要可视化地图背景\n",
    "import torch\n",
    "import pytorch_lightning as pl\n",
    "import numpy as np\n",
    "from typing import Callable, Dict, List, Optional, Tuple, Union\n",
    "from models.hivt import HiVT\n",
    "from utils import TemporalData\n",
    "import os \n",
    "import random\n",
    "def plot_single_vehicle(\n",
    "    avm: ArgoverseMap, \n",
    "    sample_past_trajectory: np.ndarray,  # (20, 2)\n",
    "    sample_groundtruth: np.ndarray,  # (20, 2) \n",
    "    sample_forecasted_trajectories: List[np.ndarray],  # List[(30, 2)]\n",
    "    sample_city_name: str, \n",
    "    ls: str):\n",
    "\n",
    "    # sample_past_trajectory = np.concatenate((np.expand_dims(sample_past_trajectory[-1], axis=0), sample_past_trajectory), axis=0)\n",
    "    #拼接最后一个点\n",
    "    sample_groundtruth = np.concatenate((np.expand_dims(sample_past_trajectory[-1], axis=0), sample_groundtruth), axis=0)\n",
    "    for sample_forecasted_trajectory in sample_forecasted_trajectories:\n",
    "        sample_forecasted_trajectory = np.concatenate((np.expand_dims(sample_past_trajectory[-1], axis=0), sample_forecasted_trajectory), axis=0)\n",
    " \n",
    "    ## Plot history\n",
    "    obs_len = sample_past_trajectory.shape[0]\n",
    "    pred_len = sample_groundtruth.shape[0]\n",
    "\n",
    "    plt.plot(\n",
    "        sample_past_trajectory[:, 0],\n",
    "        sample_past_trajectory[:, 1],\n",
    "        color=\"#ECA154\",\n",
    "        label=\"Past Trajectory\",\n",
    "        alpha=1,\n",
    "        linewidth=1.5,\n",
    "        zorder=15,\n",
    "        ls = '-'\n",
    "    )\n",
    "\n",
    "    ## Plot future\n",
    "    plt.plot(\n",
    "        sample_groundtruth[:, 0],\n",
    "        sample_groundtruth[:, 1],\n",
    "        color=\"#d33e4c\",\n",
    "        label=\"Ground Truth\",\n",
    "        alpha=1,\n",
    "        linewidth=1.5,\n",
    "        zorder=20,\n",
    "        ls = \"--\"\n",
    "    )\n",
    "\n",
    "    ## Plot prediction\n",
    "    for j in range(len(sample_forecasted_trajectories)):\n",
    "        plt.plot(\n",
    "            sample_forecasted_trajectories[j][:, 0],\n",
    "            sample_forecasted_trajectories[j][:, 1],\n",
    "            color=\"#007672\",\n",
    "            label=\"Forecasted Trajectory\",\n",
    "            alpha=1,\n",
    "            linewidth=1.2,\n",
    "            zorder=15,\n",
    "            ls = \"--\"\n",
    "        )\n",
    "        \n",
    "        # Plot the end marker for forcasted trajectories\n",
    "        plt.arrow(\n",
    "            sample_forecasted_trajectories[j][-2, 0], \n",
    "            sample_forecasted_trajectories[j][-2, 1],\n",
    "            sample_forecasted_trajectories[j][-1, 0] - sample_forecasted_trajectories[j][-2, 0],\n",
    "            sample_forecasted_trajectories[j][-1, 1] - sample_forecasted_trajectories[j][-2, 1],\n",
    "            color=\"#007672\",\n",
    "            label=\"Forecasted Trajectory\",\n",
    "            alpha=1,\n",
    "            linewidth=2.5,\n",
    "            zorder=15,\n",
    "            head_width=1.1,\n",
    "        )\n",
    "    \n",
    "    ## Plot the end marker for history\n",
    "    plt.arrow(\n",
    "            sample_past_trajectory[-2, 0], \n",
    "            sample_past_trajectory[-2, 1],\n",
    "            sample_past_trajectory[-1, 0] - sample_past_trajectory[-2, 0],\n",
    "            sample_past_trajectory[-1, 1] - sample_past_trajectory[-2, 1],\n",
    "            color=\"#ECA154\",\n",
    "            label=\"Past Trajectory\",\n",
    "            alpha=1,\n",
    "            linewidth=2.5,\n",
    "            zorder=25,\n",
    "            head_width=1.0,\n",
    "        )\n",
    "\n",
    "    ## Plot the end marker for future\n",
    "    plt.arrow(\n",
    "            sample_groundtruth[-2, 0], \n",
    "            sample_groundtruth[-2, 1],\n",
    "            sample_groundtruth[-1, 0] - sample_groundtruth[-2, 0],\n",
    "            sample_groundtruth[-1, 1] - sample_groundtruth[-2, 1],\n",
    "            color=\"#d33e4c\",\n",
    "            label=\"Ground Truth\",\n",
    "            alpha=1,\n",
    "            linewidth=2.5,\n",
    "            zorder=25,\n",
    "            head_width=1.0,\n",
    "        )\n",
    "\n",
    "    ## Plot history context\n",
    "    for j in range(obs_len):\n",
    "        lane_ids = avm.get_lane_ids_in_xy_bbox(\n",
    "            sample_past_trajectory[j, 0],\n",
    "            sample_past_trajectory[j, 1],\n",
    "            sample_city_name,\n",
    "            query_search_range_manhattan=3,\n",
    "        )\n",
    "        [avm.draw_lane(lane_id, sample_city_name) for lane_id in lane_ids]\n",
    "\n",
    "    ## Plot future context\n",
    "    for j in range(pred_len):\n",
    "        lane_ids = avm.get_lane_ids_in_xy_bbox(\n",
    "            sample_groundtruth[j, 0],\n",
    "            sample_groundtruth[j, 1],\n",
    "            sample_city_name,\n",
    "            query_search_range_manhattan=3,\n",
    "        )\n",
    "        [avm.draw_lane(lane_id, sample_city_name) for lane_id in lane_ids]"
   ]
  },
  {
   "cell_type": "code",
   "execution_count": 2,
   "metadata": {},
   "outputs": [],
   "source": [
    "model_unit = HiVT.load_from_checkpoint('/home/alon/Learning/HiVT/lightning_logs/version_26/checkpoints/epoch=63-step=659071.ckpt', parallel=True)\n",
    "_info = model_unit.eval()"
   ]
  },
  {
   "cell_type": "code",
   "execution_count": 3,
   "metadata": {},
   "outputs": [],
   "source": [
    "am = ArgoverseMap()"
   ]
  },
  {
   "cell_type": "markdown",
   "metadata": {},
   "source": [
    "送入模型的.pt数据格式与内容 cat\n"
   ]
  },
  {
   "cell_type": "code",
   "execution_count": 4,
   "metadata": {},
   "outputs": [
    {
     "name": "stdout",
     "output_type": "stream",
     "text": [
      "Loaded data from /home/alon/Learning/hivt_data/val/processed/20099.pt\n",
      "agent_index= 8\n",
      "av_index= 0\n",
      "message \n",
      "update \n"
     ]
    },
    {
     "name": "stderr",
     "output_type": "stream",
     "text": [
      "/home/alon/Learning/HiVT/models/local_encoder.py:394: UserWarning: operator() profile_node %28 : int[] = prim::profile_ivalue(%size.4)\n",
      " does not have profile information (Triggered internally at ../torch/csrc/jit/codegen/cuda/graph_fuser.cpp:105.)\n",
      "  alpha = softmax(alpha, index, ptr, size_i)\n"
     ]
    },
    {
     "name": "stdout",
     "output_type": "stream",
     "text": [
      "predition_unit_batch is called\n",
      "y_hat_agent.size =  torch.Size([29, 6, 30, 2])\n"
     ]
    },
    {
     "data": {
      "image/png": "[encoded data removed]",
      "text/plain": [
       "<Figure size 640x480 with 1 Axes>"
      ]
     },
     "metadata": {},
     "output_type": "display_data"
    }
   ],
   "source": [
    "# 设置处理后数据的目录路径\n",
    "\n",
    "# 循环加载每个 '.pt' 文件 100个随机\n",
    "\n",
    "# 构造完整的文件路径\n",
    "file_path = '/home/alon/Learning/hivt_data/val/processed/20099.pt'\n",
    "# 加载文件内容\n",
    "test_data = torch.load(file_path)\n",
    "# 执行所需的操作，例如打印或处理数据\n",
    "print(f\"Loaded data from {file_path}\")\n",
    "print('agent_index=',test_data['agent_index'])\n",
    "print('av_index=',test_data['av_index'])\n",
    "with torch.no_grad(): \n",
    "    y_hat_agent, pi_agent, seq_id ,position_sce= model_unit.predition_unit_batch(test_data,batch_idx=0)\n",
    "y_hat_agent = y_hat_agent.permute(0, 1, 2, 3)\n",
    "print('y_hat_agent.size = ',y_hat_agent.size()) #[29, 6, 30, 2]\n",
    "# print('pi_agent:',pi_agent)\n",
    "pred_traj_np = y_hat_agent.cpu().numpy()\n",
    "full_traj = position_sce\n",
    "if full_traj.is_cuda:\n",
    "    full_traj = full_traj.cpu()\n",
    "# 转换为 NumPy 数组\n",
    "full_traj_np = full_traj.numpy()\n",
    "\n",
    "index_agent = test_data['agent_index']\n",
    "av_agent = test_data['av_index']\n",
    "\n",
    "actor_to_show = index_agent\n",
    "sample_past_trajectory = full_traj[actor_to_show,:20,:]\n",
    "sample_groundtruth = full_traj[actor_to_show,20:,:]\n",
    "full_truth = full_traj_np[actor_to_show]\n",
    "sample_forecasted_trajectories = [pred_traj_np[actor_to_show][i] for i in range(pred_traj_np.shape[1])]\n",
    "#橙色是历史轨迹\n",
    "#绿色是预测轨迹\n",
    "#红色是真实轨迹\n",
    "plot_single_vehicle(am,sample_past_trajectory,sample_groundtruth,sample_forecasted_trajectories,test_data.city,'-.')\n",
    "actor_to_show = av_agent\n",
    "sample_past_trajectory = full_traj[actor_to_show,:20,:]\n",
    "sample_groundtruth = full_traj[actor_to_show,20:,:]\n",
    "full_truth = full_traj_np[actor_to_show]\n",
    "sample_forecasted_trajectories = [pred_traj_np[actor_to_show][i] for i in range(pred_traj_np.shape[1])]\n",
    "plot_single_vehicle(am,sample_past_trajectory,sample_groundtruth,sample_forecasted_trajectories,test_data.city,'-.')\n",
    "plt.show()\n",
    "plt.close()\n"
   ]
  },
  {
   "cell_type": "code",
   "execution_count": null,
   "metadata": {},
   "outputs": [],
   "source": []
  },
  {
   "cell_type": "code",
   "execution_count": null,
   "metadata": {},
   "outputs": [],
   "source": []
  }
 ],
 "metadata": {
  "kernelspec": {
   "display_name": "HiVT2",
   "language": "python",
   "name": "python3"
  },
  "language_info": {
   "codemirror_mode": {
    "name": "ipython",
    "version": 3
   },
   "file_extension": ".py",
   "mimetype": "text/x-python",
   "name": "python",
   "nbconvert_exporter": "python",
   "pygments_lexer": "ipython3",
   "version": "3.8.19"
  }
 },
 "nbformat": 4,
 "nbformat_minor": 2
}
