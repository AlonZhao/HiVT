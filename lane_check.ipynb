{
 "cells": [
  {
   "cell_type": "code",
   "execution_count": 1,
   "metadata": {},
   "outputs": [
    {
     "name": "stderr",
     "output_type": "stream",
     "text": [
      "/home/alon/anaconda3/envs/HiVT2/lib/python3.8/site-packages/tqdm/auto.py:21: TqdmWarning: IProgress not found. Please update jupyter and ipywidgets. See https://ipywidgets.readthedocs.io/en/stable/user_install.html\n",
      "  from .autonotebook import tqdm as notebook_tqdm\n"
     ]
    }
   ],
   "source": [
    "import pandas as pd\n",
    "import torch\n",
    "raw_lane_path = '/home/alon/Learning/HiVT/data_collection_CHERY_E0Y_10034_EVENT_MANUAL_2024-08-08-15-45-30_no_camera_lines_info_dlp_training1.csv'\n",
    "lanes_df = pd.read_csv(raw_lane_path)\n",
    "num_rows = lanes_df.shape[0]\n",
    "num_columns = lanes_df.shape[1]\n",
    "target_lanes_df =   lanes_df[lanes_df['frame_idx'] ==   59 ].iloc\n",
    "\n",
    "lane_idx_start =  3 # depends on file format\n",
    "# select lanes points  by x y respt.\n",
    "\n",
    "#原来的程序\n",
    "# x_pos = target_lanes_df[:, range(lane_idx_start, num_columns, 2)]\n",
    "# y_pos = target_lanes_df[:, range(lane_idx_start + 1 , num_columns, 2)]\n",
    "#现在的程序 默认100个点\n",
    "x_pos = target_lanes_df[:, range(lane_idx_start, num_columns - 50 , 2)]\n",
    "y_pos = target_lanes_df[:, range(lane_idx_start + 1 , num_columns - 50 , 2)]"
   ]
  },
  {
   "cell_type": "code",
   "execution_count": 10,
   "metadata": {},
   "outputs": [
    {
     "name": "stdout",
     "output_type": "stream",
     "text": [
      "(6, 87)\n",
      "<class 'pandas.core.frame.DataFrame'>\n",
      "(6, 87)\n",
      "       rel_x_0    rel_x_1    rel_x_2    rel_x_3    rel_x_4    rel_x_5  \\\n",
      "320 -18.719397 -16.719397 -14.719397 -12.719397 -10.719397  -8.719397   \n",
      "321 -18.719397 -16.719397 -14.719397 -12.719397 -10.719397  -8.719397   \n",
      "322 -20.581026 -18.581026 -16.581026 -14.581026 -12.581026 -10.581026   \n",
      "323 -21.692030 -19.692030 -17.692030 -15.692030 -13.692030 -11.692030   \n",
      "324 -22.100037 -20.100037 -18.100037 -16.100037 -14.100037 -12.100037   \n",
      "325 -18.376028 -16.376028 -14.376028 -12.376028 -10.376028  -8.376028   \n",
      "\n",
      "       rel_x_6   rel_x_7   rel_x_8   rel_x_9  ...    rel_x_77    rel_x_78  \\\n",
      "320  -6.719397 -4.719397 -2.719397 -0.719397  ...  135.280609  137.280609   \n",
      "321  -6.719397 -4.719397 -2.719397 -0.719397  ...  135.280609  137.280609   \n",
      "322  -8.581026 -6.581026 -4.581026 -2.581026  ...  133.418976  135.418976   \n",
      "323  -9.692030 -7.692030 -5.692030 -3.692030  ...  132.307968  134.307968   \n",
      "324 -10.100037 -8.100037 -6.100037 -4.100037  ...  131.899963  133.899963   \n",
      "325  -6.376028 -4.376028 -2.376028 -0.376028  ...  135.623962  137.623962   \n",
      "\n",
      "       rel_x_79    rel_x_80    rel_x_81    rel_x_82    rel_x_83    rel_x_84  \\\n",
      "320  139.280609  141.280609  143.280609  145.280609  147.280609  149.280609   \n",
      "321  139.280609  141.280609  143.280609  145.280609  147.280609  149.280609   \n",
      "322  137.418976  139.418976  141.418976  143.418976  145.418976  147.418976   \n",
      "323  136.307968  138.307968  140.307968  142.307968  144.307968  146.307968   \n",
      "324  135.899963  137.899963  139.899963  141.899963  143.899963  145.899963   \n",
      "325  139.623962  141.623962  143.623962  145.623962  147.623962  149.623962   \n",
      "\n",
      "       rel_x_85    rel_x_86  \n",
      "320  148.664505  149.074249  \n",
      "321  148.664505  149.074249  \n",
      "322  149.418976  149.074249  \n",
      "323  148.307968  149.074249  \n",
      "324  147.899963  149.899963  \n",
      "325  147.899963  149.899963  \n",
      "\n",
      "[6 rows x 87 columns]\n"
     ]
    }
   ],
   "source": [
    "print(x_pos.shape)\n",
    "print(type(x_pos))\n",
    "x_pos = x_pos.dropna(axis=1)\n",
    "print(x_pos.shape)\n",
    "print(x_pos)"
   ]
  }
 ],
 "metadata": {
  "kernelspec": {
   "display_name": "HiVT2",
   "language": "python",
   "name": "python3"
  },
  "language_info": {
   "codemirror_mode": {
    "name": "ipython",
    "version": 3
   },
   "file_extension": ".py",
   "mimetype": "text/x-python",
   "name": "python",
   "nbconvert_exporter": "python",
   "pygments_lexer": "ipython3",
   "version": "3.8.19"
  }
 },
 "nbformat": 4,
 "nbformat_minor": 2
}
